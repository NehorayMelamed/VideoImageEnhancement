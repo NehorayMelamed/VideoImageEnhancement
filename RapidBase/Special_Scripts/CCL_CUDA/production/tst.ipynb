{
 "cells": [
  {
   "cell_type": "code",
   "execution_count": null,
   "metadata": {},
   "outputs": [],
   "source": [
    "import torch, sys\n",
    "import numpy as np\n",
    "sys.path.append(\"build/lib.linux-x86_64-cpython-39\")\n",
    "import CCL"
   ]
  }
 ],
 "metadata": {
  "kernelspec": {
   "display_name": "Python 3.9.12 ('base')",
   "language": "python",
   "name": "python3"
  },
  "language_info": {
   "name": "python",
   "version": "3.9.12"
  },
  "orig_nbformat": 4,
  "vscode": {
   "interpreter": {
    "hash": "8c67ee6aacaa72ee95145032057273f77989a696c03151e47889d27fd6625a91"
   }
  }
 },
 "nbformat": 4,
 "nbformat_minor": 2
}
