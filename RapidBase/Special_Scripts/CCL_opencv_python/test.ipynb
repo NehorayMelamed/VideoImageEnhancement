{
 "cells": [
  {
   "cell_type": "code",
   "execution_count": 26,
   "metadata": {},
   "outputs": [],
   "source": [
    "import torch, sys\n",
    "import numpy as np\n",
    "import cv2\n",
    "import torchvision\n",
    "import time"
   ]
  },
  {
   "cell_type": "code",
   "execution_count": 6,
   "metadata": {},
   "outputs": [],
   "source": [
    "\n",
    "with open(\"/home/mafat/Documents/tst/outliers.bin\", 'rb') as outliers_file:\n",
    "    full_arr = np.fromfile(outliers_file, dtype=np.ubyte).reshape((500, 500, 8000))\n",
    "outliers = torch.from_numpy(full_arr).cuda()\n"
   ]
  },
  {
   "cell_type": "code",
   "execution_count": 8,
   "metadata": {},
   "outputs": [],
   "source": [
    "\n",
    "outliers_cpu = outliers.cpu()\n",
    "outliers_np = (outliers_cpu.numpy())\n"
   ]
  },
  {
   "cell_type": "code",
   "execution_count": 41,
   "metadata": {},
   "outputs": [
    {
     "name": "stdout",
     "output_type": "stream",
     "text": [
      "1.8835649490356445\n"
     ]
    }
   ],
   "source": [
    "start_time = time.time()\n",
    "for ind in range(outliers_np.shape[0]):\n",
    "    num_labels, labels, stats, centroids = cv2.connectedComponentsWithStats(outliers_np[ind,:,:], 8, cv2.CV_16U)\n",
    "end_time = time.time()\n",
    "print(end_time-start_time)\n"
   ]
  },
  {
   "cell_type": "code",
   "execution_count": 30,
   "metadata": {},
   "outputs": [
    {
     "name": "stdout",
     "output_type": "stream",
     "text": [
      "8.473896026611328\n"
     ]
    }
   ],
   "source": [
    "start_time = time.time()\n",
    "for ind in range(outliers_np.shape[0]):\n",
    "    num_labels, labels, stats, centroids = cv2.connectedComponentsWithStatsWithAlgorithm(outliers_np[ind,:,:], 8, cv2.CV_16U,cv2.CCL_WU)\n",
    "end_time = time.time()\n",
    "print(end_time-start_time)\n"
   ]
  },
  {
   "cell_type": "code",
   "execution_count": 33,
   "metadata": {},
   "outputs": [
    {
     "name": "stdout",
     "output_type": "stream",
     "text": [
      "3.1081442832946777\n"
     ]
    }
   ],
   "source": [
    "start_time = time.time()\n",
    "for ind in range(outliers_np.shape[0]):\n",
    "    num_labels, labels, stats, centroids = cv2.connectedComponentsWithStatsWithAlgorithm(outliers_np[ind,:,:], 8, cv2.CV_16U,cv2.CCL_GRANA)\n",
    "end_time = time.time()\n",
    "print(end_time-start_time)\n"
   ]
  },
  {
   "cell_type": "code",
   "execution_count": 43,
   "metadata": {},
   "outputs": [
    {
     "name": "stdout",
     "output_type": "stream",
     "text": [
      "2.7467639446258545\n"
     ]
    }
   ],
   "source": [
    "start_time = time.time()\n",
    "for ind in range(outliers_np.shape[0]):\n",
    "    num_labels, labels, stats, centroids = cv2.connectedComponentsWithStatsWithAlgorithm(outliers_np[ind,:,:], 8, cv2.CV_16U,cv2.CCL_BOLELLI)\n",
    "end_time = time.time()\n",
    "print(end_time-start_time)\n"
   ]
  },
  {
   "cell_type": "code",
   "execution_count": 44,
   "metadata": {},
   "outputs": [
    {
     "name": "stdout",
     "output_type": "stream",
     "text": [
      "2.7009928226470947\n"
     ]
    }
   ],
   "source": [
    "start_time = time.time()\n",
    "for ind in range(outliers_np.shape[0]):\n",
    "    num_labels, labels, stats, centroids = cv2.connectedComponentsWithStatsWithAlgorithm(outliers_np[ind,:,:], 8, cv2.CV_16U,cv2.CCL_DEFAULT)\n",
    "end_time = time.time()\n",
    "print(end_time-start_time)\n"
   ]
  },
  {
   "cell_type": "code",
   "execution_count": 62,
   "metadata": {},
   "outputs": [],
   "source": [
    "max_sz=np.empty(outliers_np.shape[0],dtype=np.int16)\n",
    "for ind in range(outliers_np.shape[0]):\n",
    "    num_labels, labels, stats, centroids = cv2.connectedComponentsWithStats(outliers_np[ind,:,:], 8, cv2.CV_16U)\n",
    "    max_sz[ind]=stats[1:, cv2.CC_STAT_AREA].max()"
   ]
  },
  {
   "cell_type": "code",
   "execution_count": 64,
   "metadata": {},
   "outputs": [
    {
     "data": {
      "text/plain": [
       "241"
      ]
     },
     "execution_count": 64,
     "metadata": {},
     "output_type": "execute_result"
    }
   ],
   "source": [
    "max_sz.max()"
   ]
  }
 ],
 "metadata": {
  "kernelspec": {
   "display_name": "cro",
   "language": "python",
   "name": "python3"
  },
  "language_info": {
   "codemirror_mode": {
    "name": "ipython",
    "version": 3
   },
   "file_extension": ".py",
   "mimetype": "text/x-python",
   "name": "python",
   "nbconvert_exporter": "python",
   "pygments_lexer": "ipython3",
   "version": "3.9.13"
  },
  "orig_nbformat": 4,
  "vscode": {
   "interpreter": {
    "hash": "aaa5123eddd06b6964fa507c27d6a68f284c4bf4c511aecd9e46a189568b87c8"
   }
  }
 },
 "nbformat": 4,
 "nbformat_minor": 2
}
