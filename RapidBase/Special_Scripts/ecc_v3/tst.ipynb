{
 "cells": [
  {
   "cell_type": "code",
   "execution_count": 6,
   "metadata": {},
   "outputs": [],
   "source": [
    "\n",
    "import torch\n",
    "import calc_delta_p\n",
    "import calc_delta_p_v3\n",
    "# Example Values: ###  #TODO: delete!!!\n",
    "T = 100\n",
    "N = 25000\n",
    "H_matrix = torch.randn((T, 3, 3)).cuda()\n",
    "H_matrix[:, 2, 2] = 1\n",
    "gx_chosen_values = torch.randn((T, N)).cuda()\n",
    "gy_chosen_values = torch.randn((T, N)).cuda()\n",
    "Jx_chosen_values = torch.randn((T, N)).cuda()\n",
    "Jy_chosen_values = torch.randn((T, N)).cuda()\n",
    "current_level_reference_tensor_zero_mean = (torch.randn(\n",
    "    (1, N)).cuda()).repeat(T, 1)  # this should be (1 ,N)\n",
    "current_level_input_tensor_warped = torch.randn((T, N)).cuda()\n"
   ]
  },
  {
   "cell_type": "code",
   "execution_count": 7,
   "metadata": {},
   "outputs": [],
   "source": [
    "\n",
    "def images_and_gradients_to_delta_p_yuri(H_matrix,\n",
    "                                         current_level_reference_tensor_zero_mean,\n",
    "                                         current_level_input_tensor_warped,\n",
    "                                         Jx_chosen_values, Jy_chosen_values,\n",
    "                                         gx_chosen_values, gy_chosen_values):\n",
    "    ### [H_matrix] = [T,3,3]\n",
    "    ### [Jx_chosen_values] = [T,N]\n",
    "    ### [Jy_chosen_values] = [T,N]\n",
    "    ### [gx_chosen_values] = [T,N]\n",
    "    ### [gy_chosen_values] = [T,N]\n",
    "    ### [current_level_reference_tensor_zero_mean] = [T,N]\n",
    "    ### [current_level_input_tensor_warped] = [T,N]\n",
    "\n",
    "    ### Correct dimensions for pytorch arithmatic: ###\n",
    "    Jx_chosen_values = Jx_chosen_values.unsqueeze(\n",
    "        1).unsqueeze(1)  # -> [T,N,1,1]\n",
    "    Jy_chosen_values = Jy_chosen_values.unsqueeze(\n",
    "        1).unsqueeze(1)  # -> [T,N,1,1]\n",
    "    H_matrix_corrected = H_matrix.unsqueeze(-1)  # -> [T,3,3,1]\n",
    "    ### Calculate den once: ###\n",
    "\n",
    "    den = (H_matrix_corrected[:, 2:3, 0:1] * Jx_chosen_values +\n",
    "           H_matrix_corrected[:, 2:3, 1:2] * Jy_chosen_values +\n",
    "           H_matrix_corrected[:, 2:3, 2:3])\n",
    "    denom_inverse = 1 / den\n",
    "\n",
    "    ### H Transform xy_prime values: ###\n",
    "    xy_prime_reshaped_X = (H_matrix_corrected[:, 0:1, 0:1] * Jx_chosen_values +\n",
    "                           H_matrix_corrected[:, 0:1, 1:2] * Jy_chosen_values +\n",
    "                           H_matrix_corrected[:, 0:1, 2:3]) * denom_inverse\n",
    "    xy_prime_reshaped_Y = (H_matrix_corrected[:, 1:2, 0:1] * Jx_chosen_values +\n",
    "                           H_matrix_corrected[:, 1:2, 1:2] * Jy_chosen_values +\n",
    "                           H_matrix_corrected[:, 1:2, 2:3]) * denom_inverse\n",
    "\n",
    "    ### Correct Jx,Jy values: ###\n",
    "    Jx_chosen_values = Jx_chosen_values * denom_inverse  # element-wise\n",
    "    Jy_chosen_values = Jy_chosen_values * denom_inverse  # element-wise\n",
    "\n",
    "    #### Get final Jxx,Jxy,Jyy,Jyx values: ####\n",
    "    Jxx_prime = Jx_chosen_values * xy_prime_reshaped_X  # element-wise.\n",
    "    Jyx_prime = Jy_chosen_values * xy_prime_reshaped_X\n",
    "    Jxy_prime = Jx_chosen_values * xy_prime_reshaped_Y  # element-wise\n",
    "    Jyy_prime = Jy_chosen_values * xy_prime_reshaped_Y\n",
    "\n",
    "    # ### Get final jacobian of the H_matrix with respect to the different parameters: ###\n",
    "    # J_list = [Jx_chosen_values, Jy_chosen_values, Jxx_prime, Jxy_prime, Jyx_prime, Jyy_prime]\n",
    "\n",
    "    ### Yuri calculations: ###\n",
    "    current_level_reference_tensor_zero_mean = current_level_reference_tensor_zero_mean.unsqueeze(\n",
    "        1).unsqueeze(1)  # ->[T,1,1,N]\n",
    "    current_level_input_tensor_warped = current_level_input_tensor_warped.unsqueeze(\n",
    "        1).unsqueeze(1)  # ->[T,1,1,N]\n",
    "    gx_chosen_values = gx_chosen_values.unsqueeze(\n",
    "        1).unsqueeze(1)  # ->[T,1,1,N]\n",
    "    gy_chosen_values = gy_chosen_values.unsqueeze(\n",
    "        1).unsqueeze(1)  # ->[T,1,1,N]\n",
    "\n",
    "    delta_p = calc_delta_p.ecc_calc_delta_p(gx_chosen_values, gy_chosen_values,\n",
    "                                            Jx_chosen_values, Jy_chosen_values,\n",
    "                                            Jxx_prime, Jxy_prime, Jyx_prime, Jyy_prime,\n",
    "                                            current_level_reference_tensor_zero_mean,\n",
    "                                            current_level_input_tensor_warped)\n",
    "    return delta_p\n",
    "\n"
   ]
  },
  {
   "cell_type": "code",
   "execution_count": 8,
   "metadata": {},
   "outputs": [],
   "source": [
    "G1, Gt1, Gw1, C1, delta_p1 = images_and_gradients_to_delta_p_yuri(H_matrix,\n",
    "                                                current_level_reference_tensor_zero_mean,\n",
    "                                                current_level_input_tensor_warped,\n",
    "                                                Jx_chosen_values, Jy_chosen_values,\n",
    "                                                gx_chosen_values, gy_chosen_values)"
   ]
  },
  {
   "cell_type": "code",
   "execution_count": 9,
   "metadata": {},
   "outputs": [],
   "source": [
    "G2, Gt2, Gw2, C2, delta_p2 = calc_delta_p_v3.ecc_calc_delta_p(H_matrix,\n",
    "                                            current_level_reference_tensor_zero_mean,\n",
    "                                            current_level_input_tensor_warped,\n",
    "                                            Jx_chosen_values, Jy_chosen_values,\n",
    "                                            gx_chosen_values, gy_chosen_values)"
   ]
  },
  {
   "cell_type": "code",
   "execution_count": 35,
   "metadata": {},
   "outputs": [
    {
     "name": "stdout",
     "output_type": "stream",
     "text": [
      "torch.return_types.max(\n",
      "values=tensor([[0.0204],\n",
      "        [0.1582],\n",
      "        [0.2224],\n",
      "        [0.2361],\n",
      "        [0.0560],\n",
      "        [0.2480],\n",
      "        [0.0074],\n",
      "        [0.0165]], device='cuda:0'),\n",
      "indices=tensor([[15],\n",
      "        [15],\n",
      "        [15],\n",
      "        [15],\n",
      "        [15],\n",
      "        [15],\n",
      "        [15],\n",
      "        [15]], device='cuda:0'))\n"
     ]
    }
   ],
   "source": [
    "# print ( (0.5*(delta_p2-delta_p1)/ (delta_p2.abs()+delta_p1.abs())).abs().argmax(dim=0))\n",
    "print ( (0.5*(delta_p2-delta_p1)/ (delta_p2.abs()+delta_p1.abs())).abs().max(dim=0))"
   ]
  },
  {
   "cell_type": "code",
   "execution_count": 36,
   "metadata": {},
   "outputs": [
    {
     "name": "stdout",
     "output_type": "stream",
     "text": [
      "tensor([[0.0204],\n",
      "        [0.1582],\n",
      "        [0.2224],\n",
      "        [0.2361],\n",
      "        [0.0560],\n",
      "        [0.2480],\n",
      "        [0.0074],\n",
      "        [0.0165]], device='cuda:0')\n"
     ]
    }
   ],
   "source": [
    "print ( (0.5*(delta_p2-delta_p1)/ (delta_p2.abs()+delta_p1.abs())).abs()[15])"
   ]
  },
  {
   "cell_type": "code",
   "execution_count": 20,
   "metadata": {},
   "outputs": [
    {
     "name": "stdout",
     "output_type": "stream",
     "text": [
      "tensor([[ 1.0931e-01],\n",
      "        [-4.0909e-02],\n",
      "        [-1.8496e-06],\n",
      "        [-5.9156e-03],\n",
      "        [-9.4704e-02],\n",
      "        [ 1.0142e-06],\n",
      "        [ 1.2064e+00],\n",
      "        [-8.9188e-01]], device='cuda:0')\n",
      "tensor([[ 1.1861e-01],\n",
      "        [-7.8766e-02],\n",
      "        [-4.8131e-06],\n",
      "        [-2.1210e-03],\n",
      "        [-7.5638e-02],\n",
      "        [ 3.0100e-06],\n",
      "        [ 1.1711e+00],\n",
      "        [-8.3484e-01]], device='cuda:0')\n"
     ]
    }
   ],
   "source": [
    "print(delta_p1[15])\n",
    "print(delta_p2[15])"
   ]
  },
  {
   "cell_type": "code",
   "execution_count": 29,
   "metadata": {},
   "outputs": [
    {
     "name": "stdout",
     "output_type": "stream",
     "text": [
      "tensor([11684, 16942, 12902, 11684, 16942, 12902,     0,     0],\n",
      "       device='cuda:0')\n"
     ]
    }
   ],
   "source": [
    "print((G1[15]-G2[15]).argmax(dim=0))"
   ]
  },
  {
   "cell_type": "code",
   "execution_count": 33,
   "metadata": {},
   "outputs": [
    {
     "name": "stdout",
     "output_type": "stream",
     "text": [
      "tensor([ 4.1687e-02, -3.4576e-02,  1.7700e+02,  2.8290e-02, -2.3468e-02,\n",
      "         1.2000e+02,  0.0000e+00,  0.0000e+00], device='cuda:0')\n"
     ]
    }
   ],
   "source": [
    "print((G1[15,11684]-G2[15,11684]))\n",
    "# print(G1[15,11684])\n",
    "# print(G2[15,11684])"
   ]
  },
  {
   "cell_type": "code",
   "execution_count": 43,
   "metadata": {},
   "outputs": [
    {
     "name": "stdout",
     "output_type": "stream",
     "text": [
      "tensor(3.7431e+11, device='cuda:0')\n"
     ]
    }
   ],
   "source": [
    "print(G1.max())\n"
   ]
  },
  {
   "cell_type": "code",
   "execution_count": 50,
   "metadata": {},
   "outputs": [
    {
     "name": "stdout",
     "output_type": "stream",
     "text": [
      "tensor(80907.1250, device='cuda:0')\n",
      "()\n"
     ]
    }
   ],
   "source": [
    "print((G1[15]-G2[15]))\n",
    "print(())"
   ]
  }
 ],
 "metadata": {
  "kernelspec": {
   "display_name": "yuri",
   "language": "python",
   "name": "python3"
  },
  "language_info": {
   "codemirror_mode": {
    "name": "ipython",
    "version": 3
   },
   "file_extension": ".py",
   "mimetype": "text/x-python",
   "name": "python",
   "nbconvert_exporter": "python",
   "pygments_lexer": "ipython3",
   "version": "3.9.13"
  },
  "orig_nbformat": 4,
  "vscode": {
   "interpreter": {
    "hash": "77959cced7bbcaba8cc9670aa44121f320848c22ab5d34a72a3058d085300350"
   }
  }
 },
 "nbformat": 4,
 "nbformat_minor": 2
}
