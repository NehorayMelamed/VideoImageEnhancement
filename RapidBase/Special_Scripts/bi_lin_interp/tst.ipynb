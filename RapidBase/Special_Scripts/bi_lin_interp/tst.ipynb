{
 "cells": [
  {
   "cell_type": "code",
   "execution_count": 1,
   "metadata": {},
   "outputs": [],
   "source": [
    "import numpy as np\n"
   ]
  },
  {
   "cell_type": "code",
   "execution_count": null,
   "metadata": {},
   "outputs": [],
   "source": [
    "a=np.arange(9)\n",
    "a=a.reshape(3,3)\n",
    "\n",
    "ind1= np.array([0,1,2])\n",
    "ind2= np.array([0,1,2])\n",
    "\n",
    "print(a[ind1,ind2])"
   ]
  }
 ],
 "metadata": {
  "kernelspec": {
   "display_name": "cro",
   "language": "python",
   "name": "python3"
  },
  "language_info": {
   "codemirror_mode": {
    "name": "ipython",
    "version": 3
   },
   "file_extension": ".py",
   "mimetype": "text/x-python",
   "name": "python",
   "nbconvert_exporter": "python",
   "pygments_lexer": "ipython3",
   "version": "3.9.13"
  },
  "orig_nbformat": 4,
  "vscode": {
   "interpreter": {
    "hash": "aaa5123eddd06b6964fa507c27d6a68f284c4bf4c511aecd9e46a189568b87c8"
   }
  }
 },
 "nbformat": 4,
 "nbformat_minor": 2
}
